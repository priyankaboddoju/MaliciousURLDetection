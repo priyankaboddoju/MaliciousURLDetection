{
 "cells": [
  {
   "cell_type": "code",
   "execution_count": 2,
   "id": "2c7a4b29",
   "metadata": {},
   "outputs": [
    {
     "name": "stdout",
     "output_type": "stream",
     "text": [
      "Requirement already satisfied: scikit-learn==1.2.1 in /home/ec2-user/anaconda3/envs/python3/lib/python3.10/site-packages (1.2.1)\n",
      "Requirement already satisfied: numpy>=1.17.3 in /home/ec2-user/anaconda3/envs/python3/lib/python3.10/site-packages (from scikit-learn==1.2.1) (1.22.4)\n",
      "Requirement already satisfied: scipy>=1.3.2 in /home/ec2-user/anaconda3/envs/python3/lib/python3.10/site-packages (from scikit-learn==1.2.1) (1.12.0)\n",
      "Requirement already satisfied: joblib>=1.1.1 in /home/ec2-user/anaconda3/envs/python3/lib/python3.10/site-packages (from scikit-learn==1.2.1) (1.3.2)\n",
      "Requirement already satisfied: threadpoolctl>=2.0.0 in /home/ec2-user/anaconda3/envs/python3/lib/python3.10/site-packages (from scikit-learn==1.2.1) (3.4.0)\n"
     ]
    }
   ],
   "source": [
    "!pip install scikit-learn==1.2.1"
   ]
  },
  {
   "cell_type": "code",
   "execution_count": 1,
   "id": "cefaee49",
   "metadata": {},
   "outputs": [
    {
     "name": "stdout",
     "output_type": "stream",
     "text": [
      "Multinomial Naive Bayes Accuracy: 0.8886124739901259\n",
      "              precision    recall  f1-score   support\n",
      "\n",
      "      benign       0.86      0.99      0.92     85778\n",
      "  defacement       0.96      0.95      0.95     19104\n",
      "     malware       0.98      0.84      0.90      6521\n",
      "    phishing       0.97      0.36      0.53     18836\n",
      "\n",
      "    accuracy                           0.89    130239\n",
      "   macro avg       0.94      0.79      0.83    130239\n",
      "weighted avg       0.90      0.89      0.87    130239\n",
      "\n",
      "Multinomial Naive Bayes Predictions: ['phishing' 'benign']\n"
     ]
    }
   ],
   "source": [
    "import pandas as pd\n",
    "from sklearn.model_selection import train_test_split\n",
    "from sklearn.feature_extraction.text import TfidfVectorizer\n",
    "from sklearn.naive_bayes import MultinomialNB\n",
    "from sklearn.metrics import classification_report, accuracy_score\n",
    "import joblib\n",
    "\n",
    "# Load the dataset\n",
    "data = pd.read_csv(\"malicious_phish.csv\")\n",
    "\n",
    "# Feature extraction\n",
    "X = data['url']\n",
    "y = data['type']\n",
    "\n",
    "# Splitting the dataset into training and testing sets\n",
    "X_train, X_test, y_train, y_test = train_test_split(X, y, test_size=0.2, random_state=42)\n",
    "\n",
    "# Convert URLs into features using TF-IDF\n",
    "vectorizer = TfidfVectorizer()\n",
    "X_train_vect = vectorizer.fit_transform(X_train)\n",
    "X_test_vect = vectorizer.transform(X_test)\n",
    "\n",
    "# Train Multinomial Naive Bayes classifier\n",
    "nb_model = MultinomialNB()\n",
    "nb_model.fit(X_train_vect, y_train)\n",
    "\n",
    "# Evaluate Multinomial Naive Bayes model\n",
    "nb_y_pred = nb_model.predict(X_test_vect)\n",
    "print(\"Multinomial Naive Bayes Accuracy:\", accuracy_score(y_test, nb_y_pred))\n",
    "print(classification_report(y_test, nb_y_pred))\n",
    "\n",
    "# Saving the model\n",
    "joblib.dump(nb_model, \"nb_model.pkl\")\n",
    "joblib.dump(vectorizer, \"tfidf_vectorizer.pkl\")\n",
    "\n",
    "# Predicting new URLs\n",
    "new_urls = [\"http://example.com\", \"http://malicious-site.com\"]\n",
    "new_urls_vect = vectorizer.transform(new_urls)\n",
    "nb_predictions = nb_model.predict(new_urls_vect)\n",
    "print(\"Multinomial Naive Bayes Predictions:\", nb_predictions)\n"
   ]
  },
  {
   "cell_type": "code",
   "execution_count": null,
   "id": "56a2025e",
   "metadata": {},
   "outputs": [],
   "source": []
  }
 ],
 "metadata": {
  "kernelspec": {
   "display_name": "conda_python3",
   "language": "python",
   "name": "conda_python3"
  },
  "language_info": {
   "codemirror_mode": {
    "name": "ipython",
    "version": 3
   },
   "file_extension": ".py",
   "mimetype": "text/x-python",
   "name": "python",
   "nbconvert_exporter": "python",
   "pygments_lexer": "ipython3",
   "version": "3.10.14"
  }
 },
 "nbformat": 4,
 "nbformat_minor": 5
}
